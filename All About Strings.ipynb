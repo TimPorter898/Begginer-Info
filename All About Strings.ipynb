{
 "cells": [
  {
   "cell_type": "markdown",
   "id": "ce660cbd",
   "metadata": {},
   "source": [
    "<h1><center>All About Strings!</center></h1>"
   ]
  },
  {
   "cell_type": "markdown",
   "id": "bc0f6e96",
   "metadata": {},
   "source": [
    "### Strings are an immutable data type, meaning they cannot change once created. However, it is very easy to make a new edited verision of thhe older string....."
   ]
  },
  {
   "cell_type": "code",
   "execution_count": 1,
   "id": "fa4fccbe",
   "metadata": {},
   "outputs": [
    {
     "data": {
      "text/plain": [
       "'Strings are held in what is called a.....'"
      ]
     },
     "execution_count": 1,
     "metadata": {},
     "output_type": "execute_result"
    }
   ],
   "source": [
    "container = \"Strings are held in what is called a.....\"\n",
    "container"
   ]
  },
  {
   "cell_type": "code",
   "execution_count": 2,
   "id": "19138207",
   "metadata": {},
   "outputs": [
    {
     "data": {
      "text/plain": [
       "'Strings are held in what is called a variable.'"
      ]
     },
     "execution_count": 2,
     "metadata": {},
     "output_type": "execute_result"
    }
   ],
   "source": [
    "container = \"Strings are held in what is called a variable.\"\n",
    "container"
   ]
  },
  {
   "cell_type": "code",
   "execution_count": 3,
   "id": "0048f6c3",
   "metadata": {},
   "outputs": [
    {
     "data": {
      "text/plain": [
       "'Think of variables as containers that can hold any kind of datatype or data structures.'"
      ]
     },
     "execution_count": 3,
     "metadata": {},
     "output_type": "execute_result"
    }
   ],
   "source": [
    "container = \"Think of variables as containers that can hold any kind of datatype or data structures.\"\n",
    "container"
   ]
  },
  {
   "cell_type": "code",
   "execution_count": 4,
   "id": "e31ffbbb",
   "metadata": {},
   "outputs": [
    {
     "name": "stdout",
     "output_type": "stream",
     "text": [
      "variables caanot start with digits, cannot contain spaces(so use underscore).\n",
      "So to do they contain all lower case. Helps with readability when you are dealing-\n",
      "with multiple data types and or objects.\n"
     ]
    }
   ],
   "source": [
    "this_is_a_variable = \"variables caanot start with digits, cannot contain spaces(so use underscore).\"\n",
    "another_variable = \"So to do they contain all lower case. Helps with readability when you are dealing-\"\n",
    "third_variable = \"with multiple data types and or objects.\"\n",
    "print(this_is_a_variable)\n",
    "print(another_variable)\n",
    "print(third_variable)"
   ]
  },
  {
   "cell_type": "markdown",
   "id": "9513dc80",
   "metadata": {},
   "source": [
    "### Comments are represented by a # symbol(in pythhon). This code will not be processed by the computer but its to help tell you what the code does. "
   ]
  },
  {
   "cell_type": "code",
   "execution_count": 5,
   "id": "1cd3401e",
   "metadata": {},
   "outputs": [
    {
     "data": {
      "text/plain": [
       "'That was easy!'"
      ]
     },
     "execution_count": 5,
     "metadata": {},
     "output_type": "execute_result"
    }
   ],
   "source": [
    "# Concatinating strings is pretty much just putting two or more strings together. The only draw back is its\n",
    "# kind of tricky to concatinate diffrent data types together, =that as it may just turn them into\n",
    "# strings with the str() function we will discuss much later!\n",
    "concatination_1 = \"That \"\n",
    "concatination_2 = \"was \"\n",
    "concatination_3 = \"easy!\"\n",
    "concatination_1 + concatination_2 + concatination_3"
   ]
  },
  {
   "cell_type": "markdown",
   "id": "639ba75c",
   "metadata": {},
   "source": [
    "### There are many ways to handle strings so here is a plethora of examples!"
   ]
  },
  {
   "cell_type": "code",
   "execution_count": 6,
   "id": "32fd5867",
   "metadata": {},
   "outputs": [
    {
     "data": {
      "text/plain": [
       "'Hope this short guide is helping you!'"
      ]
     },
     "execution_count": 6,
     "metadata": {},
     "output_type": "execute_result"
    }
   ],
   "source": [
    "# Replcing data in a string? No problem!\n",
    "some_container = \"Hope this short error is helping you!\"\n",
    "some_container = some_container.replace('error', 'guide')\n",
    "some_container"
   ]
  },
  {
   "cell_type": "code",
   "execution_count": 7,
   "id": "f026b965",
   "metadata": {},
   "outputs": [
    {
     "name": "stdout",
     "output_type": "stream",
     "text": [
      "h\n",
      "e\n",
      "y\n",
      " \n",
      "d\n",
      "u\n",
      "d\n",
      "e\n",
      "!\n"
     ]
    }
   ],
   "source": [
    "# String indexing, or looking up specific characters in a sting using square brackets and integers.\n",
    "hi = \"hey dude!\"\n",
    "print(hi[0])\n",
    "print(hi[1])\n",
    "print(hi[2])\n",
    "print(hi[3])\n",
    "print(hi[4])\n",
    "print(hi[5])\n",
    "print(hi[6])\n",
    "print(hi[7])\n",
    "print(hi[8])"
   ]
  },
  {
   "cell_type": "code",
   "execution_count": 8,
   "id": "3261d1df",
   "metadata": {},
   "outputs": [
    {
     "name": "stdout",
     "output_type": "stream",
     "text": [
      "I am a..... <class 'str'>  'str' meaning string!\n"
     ]
    }
   ],
   "source": [
    "what_am_i = \"I am a.....\"\n",
    "description = \" 'str' meaning string!\"\n",
    "print(what_am_i, type(what_am_i), description) # This is not a concatination, the pc must print out \n",
    "# each statment separately."
   ]
  },
  {
   "cell_type": "markdown",
   "id": "3c5b84be",
   "metadata": {},
   "source": [
    "### Going back to the immutability of strings...."
   ]
  },
  {
   "cell_type": "code",
   "execution_count": 9,
   "id": "7fbf6e8e",
   "metadata": {},
   "outputs": [
    {
     "name": "stdout",
     "output_type": "stream",
     "text": [
      "Lets check with the id() function! 3046266679088\n",
      "Now im over here becouse I changed! 3046266678128\n"
     ]
    }
   ],
   "source": [
    "# We can actually check where the string is located in our pc memory and see what happens when we change it.\n",
    "where_am_i = \"Lets check with the id() function!\"\n",
    "print(where_am_i,id(where_am_i))\n",
    "where_am_i = \"Now im over here becouse I changed!\"\n",
    "print(where_am_i,id(where_am_i))\n"
   ]
  },
  {
   "cell_type": "code",
   "execution_count": 14,
   "id": "bff7ec08",
   "metadata": {},
   "outputs": [
    {
     "name": "stdout",
     "output_type": "stream",
     "text": [
      "Lets get closer together words, for a hug!\n",
      "Letsgetclosertogetherwords,forahug!\n"
     ]
    }
   ],
   "source": [
    "# Replacing white space(empty space) in a string.\n",
    "remove_white_space = \"Lets get closer together words, for a hug!\"\n",
    "print(remove_white_space)\n",
    "remove_white_space = remove_white_space.replace(\" \",\"\")\n",
    "print(remove_white_space)\n"
   ]
  },
  {
   "cell_type": "markdown",
   "id": "09dd3267",
   "metadata": {},
   "source": [
    "### Alrighty my friends good luck and remember dont memorize just know of  what you can do!"
   ]
  },
  {
   "cell_type": "code",
   "execution_count": null,
   "id": "0b369f87",
   "metadata": {},
   "outputs": [],
   "source": []
  }
 ],
 "metadata": {
  "kernelspec": {
   "display_name": "Python 3 (ipykernel)",
   "language": "python",
   "name": "python3"
  },
  "language_info": {
   "codemirror_mode": {
    "name": "ipython",
    "version": 3
   },
   "file_extension": ".py",
   "mimetype": "text/x-python",
   "name": "python",
   "nbconvert_exporter": "python",
   "pygments_lexer": "ipython3",
   "version": "3.9.7"
  }
 },
 "nbformat": 4,
 "nbformat_minor": 5
}
