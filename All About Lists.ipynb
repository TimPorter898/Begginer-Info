{
 "cells": [
  {
   "cell_type": "markdown",
   "id": "622d1f6c",
   "metadata": {},
   "source": [
    "<h1><center>All About Lists!</center></h1>"
   ]
  },
  {
   "cell_type": "markdown",
   "id": "e060aa6c",
   "metadata": {},
   "source": [
    "#### Lists are a mutable data type meaning when they change they do not move in memory, they are updated where they are. LIsts can hold just about anything, even other lists!"
   ]
  },
  {
   "cell_type": "code",
   "execution_count": 4,
   "id": "2521f6bd",
   "metadata": {},
   "outputs": [],
   "source": [
    "# Square brackets signify a list, you can leave them empty or add data when their created.\n",
    "empty_list = []\n",
    "list_with_items = ['Hello', 5, ['Creating', 'a', 'nested', 'list'], empty_list, 20, 'Thats', 'All']"
   ]
  },
  {
   "cell_type": "markdown",
   "id": "1f7b4f1f",
   "metadata": {},
   "source": [
    "#### You can select specific items from a list, add or remove items as well."
   ]
  },
  {
   "cell_type": "code",
   "execution_count": 6,
   "id": "2b73ea6a",
   "metadata": {},
   "outputs": [
    {
     "name": "stdout",
     "output_type": "stream",
     "text": [
      "First item in list: Hello\n",
      "Second item in list: 5\n",
      "Third item in list: ['Creating', 'a', 'nested', 'list']\n",
      "Fourth item in list: []\n"
     ]
    }
   ],
   "source": [
    "# Programmers start with 0 not 1.\n",
    "print(f'First item in list: {list_with_items[0]}')\n",
    "print(f'Second item in list: {list_with_items[1]}')\n",
    "print(f'Third item in list: {list_with_items[2]}')\n",
    "print(f'Fourth item in list: {list_with_items[3]}')"
   ]
  },
  {
   "cell_type": "code",
   "execution_count": 8,
   "id": "da7c29fe",
   "metadata": {},
   "outputs": [
    {
     "data": {
      "text/plain": [
       "['Hello', 5]"
      ]
     },
     "execution_count": 8,
     "metadata": {},
     "output_type": "execute_result"
    }
   ],
   "source": [
    "# List splicing, selecting where to start and end, when viewing the list.\n",
    "list_with_items[0:2] #[start:stop]\n"
   ]
  },
  {
   "cell_type": "code",
   "execution_count": 9,
   "id": "61e6c431",
   "metadata": {},
   "outputs": [
    {
     "data": {
      "text/plain": [
       "[[], 20, 'Thats', 'All']"
      ]
     },
     "execution_count": 9,
     "metadata": {},
     "output_type": "execute_result"
    }
   ],
   "source": [
    "list_with_items[3:] # If no argument is given the default is the beggining or end of the list"
   ]
  },
  {
   "cell_type": "code",
   "execution_count": 10,
   "id": "c0501741",
   "metadata": {},
   "outputs": [
    {
     "name": "stdout",
     "output_type": "stream",
     "text": [
      "[10]\n"
     ]
    }
   ],
   "source": [
    "# Adding values to lists.\n",
    "empty_list.append(10)\n",
    "print(empty_list)"
   ]
  },
  {
   "cell_type": "code",
   "execution_count": 11,
   "id": "17120b7e",
   "metadata": {},
   "outputs": [
    {
     "name": "stdout",
     "output_type": "stream",
     "text": [
      "[]\n"
     ]
    }
   ],
   "source": [
    "# Removing the last item from list.\n",
    "empty_list.pop()\n",
    "print(empty_list)"
   ]
  },
  {
   "cell_type": "markdown",
   "id": "00df3797",
   "metadata": {},
   "source": [
    "#### Iteration, going through data one value at a time. Requires loops such as the For loop or While loop."
   ]
  },
  {
   "cell_type": "code",
   "execution_count": 13,
   "id": "8dc07675",
   "metadata": {},
   "outputs": [
    {
     "name": "stdout",
     "output_type": "stream",
     "text": [
      "Hello\n",
      "5\n",
      "['Creating', 'a', 'nested', 'list']\n",
      "[]\n",
      "20\n",
      "Thats\n",
      "All\n"
     ]
    }
   ],
   "source": [
    "for item in list_with_items: # You can replace item with anything you desire, just keep code readable.\n",
    "    print(item)"
   ]
  },
  {
   "cell_type": "code",
   "execution_count": 60,
   "id": "fd2eb8d9",
   "metadata": {},
   "outputs": [
    {
     "name": "stdout",
     "output_type": "stream",
     "text": [
      "['C', 'a', 't', 's', ' ', 'a', 'r', 'e', ' ', 'T', 'H', 'E', ' ', 'b', 'e', 's', 't', '!']\n"
     ]
    }
   ],
   "source": [
    "a_string_variable = 'Cats are THE best!'\n",
    "for char in a_string_variable:\n",
    "    empty_list.append(char)\n",
    "    \n",
    "print(empty_list)"
   ]
  },
  {
   "cell_type": "code",
   "execution_count": 63,
   "id": "05f04e71",
   "metadata": {},
   "outputs": [
    {
     "data": {
      "text/plain": [
       "['are', 'purrfect']"
      ]
     },
     "execution_count": 63,
     "metadata": {},
     "output_type": "execute_result"
    }
   ],
   "source": [
    "empty_list.clear() # Clearing the list\n",
    "\n",
    "empty_list = ['cats', 'are', 'purrfect']\n",
    "empty_list.remove('cats') # Use the remove feature to delete a specific item.\n",
    "\n",
    "empty_list"
   ]
  },
  {
   "cell_type": "markdown",
   "id": "8253800e",
   "metadata": {},
   "source": [
    "#### There are allot more to lists than meets the eye. They can be really flexible and useful yo work with just remember know of how and what functions to use dont get bogged down memorizing syntax."
   ]
  },
  {
   "cell_type": "code",
   "execution_count": null,
   "id": "08065028",
   "metadata": {},
   "outputs": [],
   "source": []
  }
 ],
 "metadata": {
  "kernelspec": {
   "display_name": "Python 3 (ipykernel)",
   "language": "python",
   "name": "python3"
  },
  "language_info": {
   "codemirror_mode": {
    "name": "ipython",
    "version": 3
   },
   "file_extension": ".py",
   "mimetype": "text/x-python",
   "name": "python",
   "nbconvert_exporter": "python",
   "pygments_lexer": "ipython3",
   "version": "3.9.7"
  }
 },
 "nbformat": 4,
 "nbformat_minor": 5
}
