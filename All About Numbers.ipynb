{
 "cells": [
  {
   "cell_type": "markdown",
   "id": "851ebe8e",
   "metadata": {},
   "source": [
    "<h1><center>All About Numbers!</center></h1>"
   ]
  },
  {
   "cell_type": "markdown",
   "id": "288056b5",
   "metadata": {},
   "source": [
    "### <h1><center>Integers</center></h1>"
   ]
  },
  {
   "cell_type": "markdown",
   "id": "dbbed159",
   "metadata": {},
   "source": [
    "### Integers are an immutable data type (as well as floats and complex numbers which you will see later on), meaning they cannot change once created. Integers only consist of whole numbers, if they include a decimal point then they are considered float."
   ]
  },
  {
   "cell_type": "code",
   "execution_count": 1,
   "id": "f77ab4f0",
   "metadata": {},
   "outputs": [
    {
     "data": {
      "text/plain": [
       "5"
      ]
     },
     "execution_count": 1,
     "metadata": {},
     "output_type": "execute_result"
    }
   ],
   "source": [
    "integer = 5\n",
    "integer"
   ]
  },
  {
   "cell_type": "markdown",
   "id": "dcdbab37",
   "metadata": {},
   "source": [
    "### You can use operators(addition'+', subtraction'-', multiplication'*', division'/') on either the integer or the varaible containing the integer."
   ]
  },
  {
   "cell_type": "code",
   "execution_count": 2,
   "id": "f8d95af2",
   "metadata": {},
   "outputs": [
    {
     "name": "stdout",
     "output_type": "stream",
     "text": [
      "Variable increased_integers is holding a value of: 15\n"
     ]
    }
   ],
   "source": [
    "increased_integer = 10 + integer\n",
    "# Printing a string along with the a variable holding an integer\n",
    "print(f'Variable increased_integers is holding a value of: {increased_integer}')"
   ]
  },
  {
   "cell_type": "code",
   "execution_count": 3,
   "id": "1b6a7f43",
   "metadata": {},
   "outputs": [
    {
     "name": "stdout",
     "output_type": "stream",
     "text": [
      "The value of variable integer is: 5\n"
     ]
    }
   ],
   "source": [
    "# You cannot concatinate strings and nonstrings with out first turning the nonstring into a string.\n",
    "# Use the int() function such as...\n",
    "integer = 5\n",
    "string = 'The value of variable integer is: '\n",
    "print(string + str(integer))\n"
   ]
  },
  {
   "cell_type": "code",
   "execution_count": 4,
   "id": "109f5096",
   "metadata": {},
   "outputs": [
    {
     "name": "stdout",
     "output_type": "stream",
     "text": [
      "18\n"
     ]
    }
   ],
   "source": [
    "# Like wise you cannot use operators on any kind of string unless you turn them into integers or floats.\n",
    "# Use the int() or float() function such as....\n",
    "string_variable = '10'\n",
    "integer_variable = 8\n",
    "total = int(string_variable) + integer_variable\n",
    "print(total)"
   ]
  },
  {
   "cell_type": "markdown",
   "id": "e67e726b",
   "metadata": {},
   "source": [
    "### A quick run down of most operators"
   ]
  },
  {
   "cell_type": "code",
   "execution_count": 5,
   "id": "d86bdd23",
   "metadata": {},
   "outputs": [
    {
     "name": "stdout",
     "output_type": "stream",
     "text": [
      "New variable made by adding previouse 2 variable together: 15\n",
      "Adding integer_variable_3 with 15:  30\n"
     ]
    }
   ],
   "source": [
    "# Addition, represented by the + symbol\n",
    "integer_variable_1 = 10\n",
    "integer_variable_2 = 5\n",
    "integer_variable_3 = integer_variable_1 + integer_variable_2\n",
    "print(f'New variable made by adding previouse 2 variable together: {integer_variable_3}')\n",
    "print(f'Adding integer_variable_3 with 15: ', integer_variable_3 + 15)"
   ]
  },
  {
   "cell_type": "code",
   "execution_count": 6,
   "id": "6ca134df",
   "metadata": {},
   "outputs": [
    {
     "name": "stdout",
     "output_type": "stream",
     "text": [
      "Multiplying variable_1 and variable_2 together:  12\n"
     ]
    }
   ],
   "source": [
    "# Multiplication, represented by the * symbol\n",
    "variable_1 = 3\n",
    "variable_2 = 4\n",
    "print('Multiplying variable_1 and variable_2 together: ', variable_1 * variable_2)"
   ]
  },
  {
   "cell_type": "code",
   "execution_count": 7,
   "id": "0035e039",
   "metadata": {},
   "outputs": [
    {
     "name": "stdout",
     "output_type": "stream",
     "text": [
      "variable_1 minus variable_2 is:  6\n",
      "like wise variable_2 minus variable_1 is:  -6 look dad im negative, cool!\n"
     ]
    }
   ],
   "source": [
    "# Subtraction, represented by the - symbol\n",
    "variable_1 = 10\n",
    "variable_2 = 4\n",
    "print('variable_1 minus variable_2 is: ',variable_1 - variable_2)\n",
    "print('like wise variable_2 minus variable_1 is: ',variable_2 - variable_1, 'look dad im negative, cool!')"
   ]
  },
  {
   "cell_type": "code",
   "execution_count": 8,
   "id": "21f7f929",
   "metadata": {},
   "outputs": [
    {
     "name": "stdout",
     "output_type": "stream",
     "text": [
      "variable_1 devided by variable_2: 5.0\n",
      "variable_1 devided by variable_2: 5\n"
     ]
    }
   ],
   "source": [
    "# Devision, represented by the / symbol\n",
    "variable_1 = 10\n",
    "variable_2 = '2'\n",
    "# Watchout! I made variable_2 a string, look for the added code turning variable_2 into an integer!...\n",
    "print(f'variable_1 devided by variable_2: {variable_1/int(variable_2)}')\n",
    "# You can use two devision symbols together to get rid of pesky zeros.\n",
    "print(f'variable_1 devided by variable_2: {variable_1//int(variable_2)}')\n",
    "# Note: you cannot devide by zero, so dont even think about it!"
   ]
  },
  {
   "cell_type": "markdown",
   "id": "efa5e3c6",
   "metadata": {},
   "source": [
    "### <h1><center>Floats</h1></center>"
   ]
  },
  {
   "cell_type": "markdown",
   "id": "da21e369",
   "metadata": {},
   "source": [
    "### Dont over complicate floats, think of them as integers with decimal points for now. You can use all operators on floats just like you can an integer..."
   ]
  },
  {
   "cell_type": "code",
   "execution_count": 9,
   "id": "6d87d70f",
   "metadata": {},
   "outputs": [
    {
     "name": "stdout",
     "output_type": "stream",
     "text": [
      "By adding float_1 and float_2 together we got: 6.6\n"
     ]
    }
   ],
   "source": [
    "float_1 = 3.3\n",
    "float_2 = 3.3\n",
    "float_3 = float_1 + float_2\n",
    "print(f'By adding float_1 and float_2 together we got: {float_3}')"
   ]
  },
  {
   "cell_type": "code",
   "execution_count": 10,
   "id": "a0451fd6",
   "metadata": {},
   "outputs": [
    {
     "name": "stdout",
     "output_type": "stream",
     "text": [
      "By adding a float and an integer together you get the flaot data type: (<class 'float'>, 8.3)\n"
     ]
    }
   ],
   "source": [
    "# What do you think we get if we add a float and an integer together?\n",
    "integer_1 = 5\n",
    "float_1 = 3.3\n",
    "what_am_i = integer_1 + float_1\n",
    "print(f'By adding a float and an integer together you get the flaot data type: {type(what_am_i), what_am_i}')"
   ]
  },
  {
   "cell_type": "code",
   "execution_count": 11,
   "id": "f662426a",
   "metadata": {},
   "outputs": [
    {
     "name": "stdout",
     "output_type": "stream",
     "text": [
      "I was a float now im a: (<class 'int'>, 5) Oh no i lost my .5!\n"
     ]
    }
   ],
   "source": [
    "# What do you think happens if we turn a float into a integer?\n",
    "float_1 = 5.5\n",
    "integer_1 = int(float_1)\n",
    "print(f'I was a float now im a: {type(integer_1), integer_1} Oh no i lost my .5!')"
   ]
  },
  {
   "cell_type": "code",
   "execution_count": 12,
   "id": "20cec576",
   "metadata": {},
   "outputs": [
    {
     "name": "stdout",
     "output_type": "stream",
     "text": [
      "I was a integer now im a: (<class 'float'>, 5.0) Oh look i got a .0 now!\n"
     ]
    }
   ],
   "source": [
    "# What do you think happens if we turn a integer into a float?\n",
    "integer_1 = 5\n",
    "float_1 = float(integer_1)\n",
    "print(f'I was a integer now im a: {type(float_1), float_1} Oh look i got a .0 now!')\n"
   ]
  },
  {
   "cell_type": "markdown",
   "id": "035ea394",
   "metadata": {},
   "source": [
    "# <h1><center> Complex Numbers</h1></center>"
   ]
  },
  {
   "cell_type": "markdown",
   "id": "7b893daf",
   "metadata": {},
   "source": [
    "### Theres not much need to got into complex numbers this early on but just to give you and idea in case you see them running about....."
   ]
  },
  {
   "cell_type": "code",
   "execution_count": 13,
   "id": "f2f650b5",
   "metadata": {},
   "outputs": [
    {
     "name": "stdout",
     "output_type": "stream",
     "text": [
      "complex_1 is a <class 'complex'>\n"
     ]
    }
   ],
   "source": [
    "# Complex numbers are formbed by a real nmumber and an imaginary number\n",
    "complex_1 = 5 + 3j # 5 is considered the real number and 3j as the imaginary number\n",
    "print(f'complex_1 is a {type(complex_1)}')"
   ]
  },
  {
   "cell_type": "code",
   "execution_count": 14,
   "id": "3a246b7e",
   "metadata": {},
   "outputs": [
    {
     "name": "stdout",
     "output_type": "stream",
     "text": [
      "is the variable\"am_i_complex\" a complex number? <class 'complex'>\n",
      "Yes the \"am_i_complex\" varaible is still complex even though the imaginary party would cancel out.\n",
      "Such as 0 * anything = 0\n"
     ]
    }
   ],
   "source": [
    "am_i_complex = 5 + 0j\n",
    "print(f'is the variable\"am_i_complex\" a complex number? {type(am_i_complex)}')\n",
    "print('Yes the \"am_i_complex\" varaible is still complex even though the imaginary party would cancel out.')\n",
    "print('Such as 0 * anything = 0')"
   ]
  }
 ],
 "metadata": {
  "kernelspec": {
   "display_name": "Python 3 (ipykernel)",
   "language": "python",
   "name": "python3"
  },
  "language_info": {
   "codemirror_mode": {
    "name": "ipython",
    "version": 3
   },
   "file_extension": ".py",
   "mimetype": "text/x-python",
   "name": "python",
   "nbconvert_exporter": "python",
   "pygments_lexer": "ipython3",
   "version": "3.9.7"
  }
 },
 "nbformat": 4,
 "nbformat_minor": 5
}
